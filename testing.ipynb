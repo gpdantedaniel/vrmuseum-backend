{
 "cells": [
  {
   "cell_type": "code",
   "execution_count": 1,
   "metadata": {},
   "outputs": [],
   "source": [
    "\n",
    "import os\n",
    "import chromadb\n",
    "\n",
    "client = chromadb.CloudClient(\n",
    "  api_key=os.getenv('CHROMA_API_KEY'),\n",
    "  tenant=os.getenv('CHROMA_TENANT'),\n",
    "  database=os.getenv('CHROMA_DATABASE')\n",
    ")"
   ]
  },
  {
   "cell_type": "code",
   "execution_count": 2,
   "metadata": {},
   "outputs": [],
   "source": [
    "specimens = client.get_collection('specimens')"
   ]
  },
  {
   "cell_type": "code",
   "execution_count": 4,
   "metadata": {},
   "outputs": [],
   "source": [
    "from openai import AzureOpenAI\n",
    "import os\n",
    "\n",
    "azure_client = AzureOpenAI(\n",
    "    api_key=os.getenv('AZURE_OPENAI_API_KEY'),\n",
    "    api_version=os.getenv('AZURE_OPENAI_API_VERSION'),\n",
    "    azure_endpoint=os.getenv('AZURE_OPENAI_ENDPOINT')\n",
    ")\n",
    "\n",
    "response = azure_client.embeddings.create(\n",
    "    input=\"A brave new world\",\n",
    "    model=\"text-embedding-3-large\",\n",
    "    dimensions=1024\n",
    ")"
   ]
  },
  {
   "cell_type": "code",
   "execution_count": 16,
   "metadata": {},
   "outputs": [],
   "source": [
    "embeddings = response.data[0].embedding"
   ]
  },
  {
   "cell_type": "code",
   "execution_count": 19,
   "metadata": {},
   "outputs": [],
   "source": [
    "results = specimens.query(query_embeddings=embeddings)"
   ]
  },
  {
   "cell_type": "code",
   "execution_count": 25,
   "metadata": {},
   "outputs": [
    {
     "data": {
      "text/plain": [
       "['RM 2352 falcon statuette',\n",
       " 'RM 7295 dog skull',\n",
       " 'RM 2019-04-07 frozen hawk',\n",
       " 'RM 5092 hippo skull',\n",
       " 'RM 2392 baboon skull']"
      ]
     },
     "execution_count": 25,
     "metadata": {},
     "output_type": "execute_result"
    }
   ],
   "source": [
    "[metadata['specimen_name'] for metadata in results['metadatas'][0][:5]]"
   ]
  },
  {
   "cell_type": "code",
   "execution_count": null,
   "metadata": {},
   "outputs": [],
   "source": []
  }
 ],
 "metadata": {
  "kernelspec": {
   "display_name": "venv",
   "language": "python",
   "name": "python3"
  },
  "language_info": {
   "codemirror_mode": {
    "name": "ipython",
    "version": 3
   },
   "file_extension": ".py",
   "mimetype": "text/x-python",
   "name": "python",
   "nbconvert_exporter": "python",
   "pygments_lexer": "ipython3",
   "version": "3.12.0"
  },
  "orig_nbformat": 4,
  "vscode": {
   "interpreter": {
    "hash": "c5d3ec6ac05ed1c40cfebe5f1e873631d8d98a33789c18268e1f9ef2e1e8ee8d"
   }
  }
 },
 "nbformat": 4,
 "nbformat_minor": 2
}
