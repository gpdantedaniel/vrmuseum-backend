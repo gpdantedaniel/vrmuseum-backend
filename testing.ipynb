{
 "cells": [
  {
   "cell_type": "code",
   "execution_count": 1,
   "metadata": {},
   "outputs": [],
   "source": [
    "\n",
    "import os\n",
    "import chromadb\n",
    "from chromadb.utils.embedding_functions import HuggingFaceEmbeddingFunction\n",
    "\n",
    "huggingface_ef = HuggingFaceEmbeddingFunction(\n",
    "    api_key=os.getenv('HF_TOKEN'),\n",
    "    model_name=\"Qwen/Qwen3-Embedding-0.6B\"\n",
    ")\n",
    "\n",
    "client = chromadb.CloudClient(\n",
    "  api_key=os.getenv('CHROMA_API_KEY'),\n",
    "  tenant=os.getenv('CHROMA_TENANT'),\n",
    "  database=os.getenv('CHROMA_DATABASE')\n",
    ")"
   ]
  },
  {
   "cell_type": "code",
   "execution_count": null,
   "metadata": {},
   "outputs": [],
   "source": []
  }
 ],
 "metadata": {
  "kernelspec": {
   "display_name": "venv",
   "language": "python",
   "name": "python3"
  },
  "language_info": {
   "codemirror_mode": {
    "name": "ipython",
    "version": 3
   },
   "file_extension": ".py",
   "mimetype": "text/x-python",
   "name": "python",
   "nbconvert_exporter": "python",
   "pygments_lexer": "ipython3",
   "version": "3.12.0"
  },
  "orig_nbformat": 4,
  "vscode": {
   "interpreter": {
    "hash": "c5d3ec6ac05ed1c40cfebe5f1e873631d8d98a33789c18268e1f9ef2e1e8ee8d"
   }
  }
 },
 "nbformat": 4,
 "nbformat_minor": 2
}
