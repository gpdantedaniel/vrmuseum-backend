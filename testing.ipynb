{
 "cells": [
  {
   "cell_type": "code",
   "execution_count": 2,
   "metadata": {},
   "outputs": [],
   "source": [
    "import os\n",
    "import chromadb\n",
    "from openai import AzureOpenAI\n",
    "\n",
    "chromadb_client = chromadb.CloudClient(\n",
    "  api_key=os.getenv('CHROMA_API_KEY'),\n",
    "  tenant=os.getenv('CHROMA_TENANT'),\n",
    "  database=os.getenv('CHROMA_DATABASE')\n",
    ")\n",
    "\n",
    "azure_client = AzureOpenAI(\n",
    "    api_key=os.getenv('AZURE_OPENAI_API_KEY'),\n",
    "    api_version=os.getenv('AZURE_OPENAI_API_VERSION'),\n",
    "    azure_endpoint=os.getenv('AZURE_OPENAI_ENDPOINT')\n",
    ")"
   ]
  },
  {
   "cell_type": "code",
   "execution_count": 7,
   "metadata": {},
   "outputs": [],
   "source": [
    "embedding_model =\"text-embedding-3-large\"\n",
    "\n",
    "def get_embeddings(text: str):\n",
    "    \"\"\"Gets embeddings from Azure OpenAI\"\"\"\n",
    "    response = azure_client.embeddings.create(input=text, model=embedding_model, dimensions=1024)\n",
    "    embeddings = response.data[0].embedding\n",
    "    return embeddings"
   ]
  },
  {
   "cell_type": "code",
   "execution_count": null,
   "metadata": {},
   "outputs": [],
   "source": [
    "import json\n",
    "\n",
    "SUMMARIZE_PROMPT = \"\"\"A user is searching in a virtual museum. \n",
    "The user asked the following search query: {query}\n",
    "Here are the results that were retrieved: {retrieval}\n",
    "Generate a friendly sentence that acknowledges the query \n",
    "and reminds the user of what they might be interested in.\"\"\"\n",
    "\n",
    "DESCRIBE_AND_JUSTIFY_PROMPT = \"\"\"A user is searching in a virtual museum. \n",
    "The user asked the following search query: {query}\n",
    "A result was retrieved: {title}\n",
    "Here is its information: {content}\n",
    "Describe the result briefly and cheerfully.\n",
    "Justify the result's relevance briefly.\"\"\"\n",
    "\n",
    "def describe_results(query, contents):\n",
    "    \"\"\"Generates a fun description of search results\"\"\"\n",
    "    retrieval = '\\n\\n'.join(contents)\n",
    "    prompt = SUMMARIZE_PROMPT.format(query=query, retrieval=retrieval)\n",
    "    response = azure_client.chat.completions.create(\n",
    "        model='gpt-4o-mini',\n",
    "        messages=[{'role': 'user', 'content': prompt}]\n",
    "    )\n",
    "\n",
    "    descriptor = response.choices[0].message.content\n",
    "    return descriptor\n",
    "\n",
    "def describe_result(query, title, content):\n",
    "    \"\"\"Generates a description and a justification for a result\"\"\"\n",
    "    prompt = DESCRIBE_AND_JUSTIFY_PROMPT.format(query=query, title=title, content=content)\n",
    "    response = azure_client.chat.completions.create(\n",
    "        model='gpt-4o-mini',\n",
    "        response_format={'type': 'json_object'},\n",
    "        messages=[\n",
    "            {'role': 'system', 'content': 'Output your JSON result as follows: {\"description\": your_description, \"justification\": your_justification}'},\n",
    "            {'role': 'user', 'content': prompt}\n",
    "        ]\n",
    "    )\n",
    "\n",
    "    result = json.loads(response.choices[0].message.content)\n",
    "    return result['description'], result['justification']\n",
    "    \n",
    "# Step 1. Get the results and parse the data\n",
    "query='Super super cold stuff!'\n",
    "specimens = chromadb_client.get_collection('specimens')\n",
    "embeddings = get_embeddings(text=query)\n",
    "results = specimens.query(query_embeddings=embeddings)\n",
    "contents = results['documents'][0][:5]\n",
    "metadatas = results['metadatas'][0][:5]\n",
    "\n",
    "# Step 2. Generate a descriptor of the result\n",
    "general_message = describe_results(query, contents)\n",
    "\n",
    "# Step 3. List recommendations\n",
    "recommendations = []\n",
    "\n",
    "for content, metadata in zip(contents, metadatas):\n",
    "    identifier, title = metadata['specimen_name'], metadata['title']\n",
    "    description, justification = describe_result(query, title, content)\n",
    "    recommendations.append({\n",
    "        'identifier': identifier,\n",
    "        'name': title,\n",
    "        'description': description,\n",
    "        'justification': justification\n",
    "    })"
   ]
  },
  {
   "cell_type": "code",
   "execution_count": 119,
   "metadata": {},
   "outputs": [
    {
     "data": {
      "text/plain": [
       "\"It sounds like you're on the lookout for some fascinatingly cold specimens! You might find the Frozen Hawk intriguing, or perhaps the unique Baby Crocodile Mummies and the Baby Caiman will pique your interest as well—each with their own chilling story!\""
      ]
     },
     "execution_count": 119,
     "metadata": {},
     "output_type": "execute_result"
    }
   ],
   "source": [
    "general_message"
   ]
  },
  {
   "cell_type": "code",
   "execution_count": 120,
   "metadata": {},
   "outputs": [
    {
     "data": {
      "text/plain": [
       "[{'identifier': 'RM 2019-04-07 frozen hawk',\n",
       "  'name': 'Frozen hawk',\n",
       "  'description': \"The 'Frozen Hawk' is a fascinating specimen that perfectly embodies the theme of extreme cold! Encounter this remarkable bird preserved in ice at the Redpath Museum, a stunning testament to the beauty and resilience of nature's chillier creatures.\",\n",
       "  'justification': \"The search query 'Super super cold stuff!' aligns well with the 'Frozen Hawk,' as it directly pertains to a unique exhibit that showcases something frozen, thus fitting the user's interest in cold-related items.\"},\n",
       " {'identifier': 'RM 2725-01 croc mummy',\n",
       "  'name': 'Baby crocodile mummy',\n",
       "  'description': \"Check out this adorable Baby Crocodile Mummy! This little creature, believed to be a Crocodylus suchus, is located at the Redpath Museum. It's a fascinating glimpse into the ancient past, showcasing how incredibly preserved this 'super super cold' mummy is. Isn't it intriguing to see such unique and cool specimens?\",\n",
       "  'justification': \"The result is relevant because the user is looking for 'super super cold stuff,' and a mummy, being a preserved specimen, fits the theme of preservation and coolness in a biological context.\"},\n",
       " {'identifier': 'RM 2725-02 croc mummy',\n",
       "  'name': 'Baby crocodile mummy',\n",
       "  'description': \"Discover the fascinating Baby Crocodile Mummy, a preserved specimen from the Redpath Museum! This tiny marvel, likely belonging to the scientific name Crocodylus suchus, showcases nature's wonders and is sure to intrigue anyone curious about the mysteries of the animal kingdom!\",\n",
       "  'justification': \"The user searched for 'super super cold stuff,' which can relate to preservation methods. The Baby Crocodile Mummy is a perfect example of a specimen that was preserved in a cold environment, making it highly relevant to the user's query.\"},\n",
       " {'identifier': 'RM 3827 pickled caiman',\n",
       "  'name': 'Baby caiman',\n",
       "  'description': \"Meet the adorable Baby Caiman, a little creature filled with curiosity! Found at the Redpath Museum, this fascinating specimen invites you to explore the mysteries surrounding its life and untimely demise. With intriguing features like a skull hole marked by a predator's tooth and hints of its growing teeth, this little reptile is sure to capture your imagination!\",\n",
       "  'justification': \"Though the search query 'super super cold stuff' seems more aligned with icy subjects, the baby caiman provides a unique opportunity to learn about a cold-blooded reptile. This captures the user’s interest in nature and the intriguing aspects of animal life in a playful and engaging manner.\"},\n",
       " {'identifier': 'RM 2726.2 falcon mummy',\n",
       "  'name': 'Falcon mummy',\n",
       "  'description': 'Discover the intriguing Falcon mummy, likely from the common kestrel! This fascinating artifact, dating back to around 15 BC, showcases how ancient Egyptians honored their feathered friends. Although its journey to the Redpath Museum is a bit mysterious, its unique identification through scleral ossicles adds to its charm. Who knew a simple mummy could tell us so much about history and culture?',\n",
       "  'justification': \"The Falcon mummy aligns with the user's inquiry into 'super super cold stuff' by being a unique and interesting artifact that evokes a sense of wonder about ancient practices and mummification, which often included animals. The connection to a cold environment (Egypt) and its preservation as a mummy captures the user's attention.\"}]"
      ]
     },
     "execution_count": 120,
     "metadata": {},
     "output_type": "execute_result"
    }
   ],
   "source": [
    "recommendations"
   ]
  },
  {
   "cell_type": "code",
   "execution_count": null,
   "metadata": {},
   "outputs": [],
   "source": [
    "\n",
    "query='Super super cold stuff!'\n",
    "embeddings = get_embeddings(text=query)\n",
    "results = specimens.query(query_embeddings=embeddings)\n",
    "\n",
    "documents = results['documents'][0][:5]\n",
    "metadatas = results['metadatas'][0][:5]\n",
    "\n",
    "retrieval = '\\n\\n'.join(documents)"
   ]
  },
  {
   "cell_type": "code",
   "execution_count": 45,
   "metadata": {},
   "outputs": [
    {
     "data": {
      "text/plain": [
       "{'ids': [['dcb43025-0791-43cf-ab0e-bbe15b886e2b',\n",
       "   '52946054-aef2-478d-9674-df995c5a9103',\n",
       "   'd0546c36-1868-4351-a4f2-a697166c7798',\n",
       "   '2c54f93f-f765-43a4-90ae-064812560f17',\n",
       "   '7e3d4fd0-6692-41e2-9592-316cdf013d47',\n",
       "   '02ae9dfd-9871-4593-8c21-703d83275c8f',\n",
       "   '3f962775-dbd2-4281-b00d-b9334b32d476',\n",
       "   'cfe03260-e185-4db7-ab7f-33ddd501f38e',\n",
       "   '333eebab-b2e1-4ae4-8b69-63f4c813de35',\n",
       "   'a16698d6-cdba-4f6b-a6a9-9183c5f3d3b4']],\n",
       " 'distances': [[1.396086,\n",
       "   1.5711721,\n",
       "   1.5721308,\n",
       "   1.6075327,\n",
       "   1.608721,\n",
       "   1.6121161,\n",
       "   1.6292788,\n",
       "   1.6340938,\n",
       "   1.639032,\n",
       "   1.6553724]],\n",
       " 'embeddings': None,\n",
       " 'metadatas': [[{'row': 20,\n",
       "    'source': '../../data/processed/vrmuseum.csv',\n",
       "    'specimen_name': 'RM 2019-04-07 frozen hawk',\n",
       "    'title': 'Frozen hawk'},\n",
       "   {'specimen_name': 'RM 2725-01 croc mummy',\n",
       "    'source': '../../data/processed/vrmuseum.csv',\n",
       "    'row': 15,\n",
       "    'title': 'Baby crocodile mummy'},\n",
       "   {'title': 'Baby crocodile mummy',\n",
       "    'row': 16,\n",
       "    'source': '../../data/processed/vrmuseum.csv',\n",
       "    'specimen_name': 'RM 2725-02 croc mummy'},\n",
       "   {'title': 'Baby caiman',\n",
       "    'source': '../../data/processed/vrmuseum.csv',\n",
       "    'row': 17,\n",
       "    'specimen_name': 'RM 3827 pickled caiman'},\n",
       "   {'row': 11,\n",
       "    'specimen_name': 'RM 2726.2 falcon mummy',\n",
       "    'source': '../../data/processed/vrmuseum.csv',\n",
       "    'title': 'Falcon mummy'},\n",
       "   {'specimen_name': 'RM 5731 falcon mummy',\n",
       "    'row': 10,\n",
       "    'title': 'Falcon mummy',\n",
       "    'source': '../../data/processed/vrmuseum.csv'},\n",
       "   {'title': 'Ibis mummy?',\n",
       "    'row': 13,\n",
       "    'specimen_name': 'RM 2727.2 ibis mummy fake',\n",
       "    'source': '../../data/processed/vrmuseum.csv'},\n",
       "   {'row': 18,\n",
       "    'specimen_name': 'RM 5255 frozen caiman',\n",
       "    'title': 'Adult caiman',\n",
       "    'source': '../../data/processed/vrmuseum.csv'},\n",
       "   {'row': 2,\n",
       "    'specimen_name': 'RM 2352 falcon statuette',\n",
       "    'source': '../../data/processed/vrmuseum.csv',\n",
       "    'title': 'Falcon statuette'},\n",
       "   {'row': 21,\n",
       "    'title': 'Ammonite shell',\n",
       "    'source': '../../data/processed/vrmuseum.csv',\n",
       "    'specimen_name': 'Fossil ammonite (McKee collection)'}]],\n",
       " 'documents': [['content: title: Frozen hawk\\nscientific name: tbd\\nlocated: Redpath Museum\\nRM 2019-04-07\\ninformation:',\n",
       "   'content: title: Baby crocodile mummy\\nscientific name: Crocodylus suchus (likely)\\nlocated: Redpath Museum\\nRM 2725.1\\ninformation:',\n",
       "   'content: title: Baby crocodile mummy\\nscientific name: Crocodylus suchus (likely)\\nlocated: Redpath Museum\\nRM 2725.2\\ninformation:',\n",
       "   'content: title: Baby caiman\\nscientific name: Caiman crocodilus\\xa0\\nlocated: Redpath Museum\\nRM 3827\\ninformation: \\nHow was the hole in this skull made? The hole on top of the skull is likely a \\npiercing mark from a sharp object such as a predator’s tooth or a stick. We don’t know the exact cause of this baby caiman’s death.\\nFemur orientation Teeth: some teeth were about to replace older ones when this caiman died.',\n",
       "   'content: title: Falcon mummy\\nscientific name: Falco tinnunculus (likely)\\nlocated: Redpath Museum\\nRM 2726.2\\ninformation: \\nCan we tell which falcon species this is from the mummy? The falcon species in this mummy was \\nidentified as the common kestrel by examining the pattern of the scleral ossicles which form a ring around the orbit. This pattern varies slightly between closely related bird species.\\nHow was this falcon sacrificed? The falcon’s head is positioned over its left \\nshoulder, with its right shoulder standing slightly outward. This suggests that it died by neck wringing, which is very plausible given that this animal was sacrificed to produce a mummy.\\xa0\\nHow did this mummy reach the Redpath Museum? We know that this mummy was donated to the \\nNatural History Society of Montreal’s collections by James Ferrier, who likely acquired it during a trip to Egypt in 1859. However, there don’t exist any documents to confirm that.\\xa0\\nHow old is this mummy? We know that this mummy was produced around \\n15 BC (2 sigma range 52 BC to AD 24) thanks to Carbon 14 dating performed on a piece of fabric that fell off the bundle as it was being transported for CT scanning. Just an example of an initial accident with a happy ending!',\n",
       "   \"content: title: Falcon mummy\\nscientific name: Falco tinnunculus (likely)\\nlocated: Redpath Museum\\nRM 5731\\ninformation: \\nCan we tell which falcon species this is from the mummy? The falcon species in this \\nmummy was identified by \\nexamining the pattern of the scleral ossicles which form a ring around the orbit. This pattern varies slightly between closely related bird species.\\nA popular bird for mummies The falcon is one of the \\nmost commonly found birds in the votive animal mummy record of ancient Egypt. This is likely because many ancient Egyptian gods were depicted with falcon heads, notably Ra and Horus (both gods of the sun and sky).\\xa0\\nMystery missing bandages Some bandages are missing \\naround the tomial tooth (the bump near the tip of the beak). We don’t know whether that was due to erroneous handling of the mummy before its burial, decomposition in the ground after burial, or both.\\xa0\\nWhy does part of the skull cover the falcon's eye? The front of the falcon's eyes is partially covered by a narrow strap-like bone. This bone is the lacrymal, and it likely acts as a sunshade for the falcon as it hunts for prey in the air, often under intense sunlight.\\nThe perching digit The first digit of each foot (named \\nhallux in birds) is so extended that it looks as if the falcon is perched inside the bandages.\",\n",
       "   'content: title: Ibis mummy?\\nscientific name: nan\\nlocated: Redpath Museum\\nRM 2727.2\\ninformation: \\nWhat is inside this bundle? A CT scan revealed that this bundle was \\nonly filled with rags and that nothing was actually embalmed inside! This is an example of a ‘pseudo-mummy’. Considering that it looks so similar to a real ibis mummy, it may well have been a key component of one of the oldest documented scams in human history!\\u202f\\xa0\\nReal or fake? In a story published in the National Geographic magazine in 2008, zooarcheologist Salima Ikram notes a trend that might not be so surprising to a 21st-century human: the more attractive the bundle, the more likely it is to contain a fake mummy!  \\nThe real ibis mummy and the fake mummy together present an exception to this rule: the wrapping of the real mummy features a beautiful artistic depiction of an ibis, while that of the fake mummy has no decoration at all. \\nDo we know exactly where this mummy was made? We are certain that this pseudo-\\nmummy was purchased by James Ferrier in Thebes alongside the real ibis mummy. However, we don’t know whether it was really made in Thebes despite this town being one of the Nile valley’s major falcon and ibis necropolises.\\xa0\\nHow old is this mummy? We know that this mummy \\nwas produced around 278 BC (2 sigma range 295 to 208 BC) thanks to Carbon 14 dating. The archeological record suggests that traditional animal cults became more widespread relatively late in ancient Egyptian history (i.e., after roughly 700 BC), perhaps as a reaction to increasing Greek and Roman influence.',\n",
       "   'content: title: Adult caiman\\nscientific name: Caiman crocodilus\\xa0\\nlocated: Redpath Museum\\nRM 5255\\ninformation: \\nHow old was this caiman? The cervical vertebrae in this individual \\nare fully fused, which indicates that it was mature.\\xa0\\nWhat are these bones that float above the orbits? These bones are called palpebrals and act as sun shades for crocodilians when ambushing prey near the water surface. They are much larger in adults than in juveniles.',\n",
       "   'content: title: Falcon statuette\\nscientific name: nan\\nlocated: Redpath Museum\\nRM 2352\\ninformation: \\nWhy is this falcon statuette painted?\\xa0 The polychrome patterns of this wooden statuette are a reference to Horus, the falcon-headed god of the sky.\\nWhat else can the design of this statuette tell us?\\xa0 The name Horus is derived from the ancient Egyptian Horou, which means \"the  distant\" in reference to the flight of the falcon high in the sky.',\n",
       "   'content: title: Ammonite shell\\nscientific name: tbd\\nlocated: McKee Collection\\ninformation:']],\n",
       " 'uris': None,\n",
       " 'data': None,\n",
       " 'included': ['metadatas', 'documents', 'distances']}"
      ]
     },
     "execution_count": 45,
     "metadata": {},
     "output_type": "execute_result"
    }
   ],
   "source": [
    "results"
   ]
  },
  {
   "cell_type": "code",
   "execution_count": 49,
   "metadata": {},
   "outputs": [],
   "source": [
    "SUMMARIZE_PROMPT = \"\"\"A user is searching in a virtual museum. \n",
    "The user asked the following search query: {query}\n",
    "Here are the results that were retrieved: {retrieval}\n",
    "Generate a friendly sentence that acknowledges the query \n",
    "and reminds the user of what they might be interested in.\"\"\""
   ]
  },
  {
   "cell_type": "code",
   "execution_count": 50,
   "metadata": {},
   "outputs": [],
   "source": [
    "response = azure_client.chat.completions.create(\n",
    "    model='gpt-4o-mini',\n",
    "    messages=[{'role': 'user', 'content': SUMMARIZE_PROMPT.format(query=query, retrieval=retrieval)}]\n",
    ")"
   ]
  },
  {
   "cell_type": "code",
   "execution_count": 52,
   "metadata": {},
   "outputs": [
    {
     "data": {
      "text/plain": [
       "'It sounds like you\\'re curious about some really fascinating frozen specimens! You might want to explore the \"Frozen Hawk\" or the various mummies, including the intriguing \"Falcon Mummy\" and the \"Baby Crocodile Mummies\" we have on display. Let me know if you\\'d like more information on any of these!'"
      ]
     },
     "execution_count": 52,
     "metadata": {},
     "output_type": "execute_result"
    }
   ],
   "source": [
    "response.choices[0].message.content"
   ]
  },
  {
   "cell_type": "code",
   "execution_count": 53,
   "metadata": {},
   "outputs": [],
   "source": [
    "content, title = documents[0], metadatas[0]['title']"
   ]
  },
  {
   "cell_type": "code",
   "execution_count": null,
   "metadata": {},
   "outputs": [],
   "source": [
    "DESCRIBE_AND_JUSTIFY_PROMPT = \"\"\"A user is searching in a virtual museum. \n",
    "The user asked the following search query: {query}\n",
    "A result was retrieved: {title}\n",
    "Here is its information: {content}\n",
    "Describe the result briefly and cheerfully.\n",
    "Justify the result's relevance briefly.\"\"\""
   ]
  },
  {
   "cell_type": "code",
   "execution_count": 109,
   "metadata": {},
   "outputs": [],
   "source": [
    "import json\n",
    "\n",
    "response = azure_client.chat.completions.create(\n",
    "    model='gpt-4o-mini',\n",
    "    response_format={'type': 'json_object'},\n",
    "    messages=[\n",
    "        {'role': 'system', 'content': 'Output your JSON result as follows: {\"description\": your_description, \"justification\": your_justification}'},\n",
    "        {'role': 'user', 'content': DESCRIBE_AND_JUSTIFY_PROMPT.format(query=query, title=title, content=content)}\n",
    "    ]\n",
    ")\n",
    "\n",
    "result = response.choices[0].message.content\n",
    "generated_metadata = json.loads(result)\n",
    "description, justification = generated_metadata['description'], generated_metadata['justification']"
   ]
  },
  {
   "cell_type": "code",
   "execution_count": 110,
   "metadata": {},
   "outputs": [
    {
     "data": {
      "text/plain": [
       "\"The 'Frozen Hawk' is a captivating specimen on display at the Redpath Museum, showcasing the intriguing aspects of nature in its frigid state! It's an eye-catching example of wildlife preservation that sparks curiosity and awe. Visiting this exhibit is like stepping into a chilly world of fascinating frozen beauty!\""
      ]
     },
     "execution_count": 110,
     "metadata": {},
     "output_type": "execute_result"
    }
   ],
   "source": [
    "description\n"
   ]
  },
  {
   "cell_type": "code",
   "execution_count": 111,
   "metadata": {},
   "outputs": [
    {
     "data": {
      "text/plain": [
       "\"The search query 'Super super cold stuff!' aligns perfectly with the result 'Frozen hawk', as it refers to a specimen that embodies extreme cold conditions. This exhibit showcases a unique biological specimen that likely intrigues visitors interested in cold environments.\""
      ]
     },
     "execution_count": 111,
     "metadata": {},
     "output_type": "execute_result"
    }
   ],
   "source": [
    "justification"
   ]
  }
 ],
 "metadata": {
  "kernelspec": {
   "display_name": "Python 3",
   "language": "python",
   "name": "python3"
  },
  "language_info": {
   "codemirror_mode": {
    "name": "ipython",
    "version": 3
   },
   "file_extension": ".py",
   "mimetype": "text/x-python",
   "name": "python",
   "nbconvert_exporter": "python",
   "pygments_lexer": "ipython3",
   "version": "3.12.0"
  },
  "orig_nbformat": 4
 },
 "nbformat": 4,
 "nbformat_minor": 2
}
